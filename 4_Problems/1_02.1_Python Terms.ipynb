{
  "cells": [
    {
      "cell_type": "markdown",
      "metadata": {
        "id": "view-in-github",
        "colab_type": "text"
      },
      "source": [
        "<a href=\"https://colab.research.google.com/github/re48jr7q/11x-Question-2/blob/master/4_Problems/1_02.1_Python%20Terms.ipynb\" target=\"_parent\"><img src=\"https://colab.research.google.com/assets/colab-badge.svg\" alt=\"Open In Colab\"/></a>"
      ]
    },
    {
      "cell_type": "markdown",
      "id": "95f6ce0f",
      "metadata": {
        "id": "95f6ce0f"
      },
      "source": [
        "<a target=\"_blank\" href=\"https://colab.research.google.com/github/lukebarousse/Python_Data_Analytics_Course/blob/main/4_Problems/1_02.1_Python Terms.ipynb\">\n",
        "  <img src=\"https://colab.research.google.com/assets/colab-badge.svg\" alt=\"Open In Colab\"/>\n",
        "</a>"
      ]
    },
    {
      "cell_type": "markdown",
      "id": "beb9ad38",
      "metadata": {
        "id": "beb9ad38"
      },
      "source": [
        "## 🟩 Example of Object (1.2.1.1)"
      ]
    },
    {
      "cell_type": "code",
      "execution_count": null,
      "id": "c12eb275",
      "metadata": {
        "id": "c12eb275"
      },
      "outputs": [],
      "source": []
    },
    {
      "cell_type": "markdown",
      "id": "4f92e924",
      "metadata": {
        "id": "4f92e924"
      },
      "source": [
        "---"
      ]
    },
    {
      "cell_type": "markdown",
      "id": "0d8bd28e",
      "metadata": {
        "id": "0d8bd28e"
      },
      "source": [
        "## 🟩 Define Variable (1.2.1.2)"
      ]
    },
    {
      "cell_type": "code",
      "execution_count": 2,
      "id": "b86bf00f",
      "metadata": {
        "id": "b86bf00f",
        "outputId": "423da97e-c94e-4eef-9b8a-fab1d89da387",
        "colab": {
          "base_uri": "https://localhost:8080/"
        }
      },
      "outputs": [
        {
          "output_type": "stream",
          "name": "stdout",
          "text": [
            "<class 'str'>\n"
          ]
        }
      ],
      "source": [
        "job_title = \"Data scientist\"\n",
        "print(type(job_title))"
      ]
    },
    {
      "cell_type": "code",
      "source": [
        "salary = 85000.5\n",
        "print(type(salary))"
      ],
      "metadata": {
        "id": "-jQjRagyA7q6",
        "outputId": "180378bb-0dec-4510-806e-5b700a0e872d",
        "colab": {
          "base_uri": "https://localhost:8080/"
        }
      },
      "id": "-jQjRagyA7q6",
      "execution_count": 3,
      "outputs": [
        {
          "output_type": "stream",
          "name": "stdout",
          "text": [
            "<class 'float'>\n"
          ]
        }
      ]
    },
    {
      "cell_type": "code",
      "source": [
        "salary_rate = 120000.75\n",
        "print(type(int(salary_rate)))"
      ],
      "metadata": {
        "id": "wU8RtghiBPgF",
        "outputId": "e283a8de-cde8-4bb3-853a-4f6f13445769",
        "colab": {
          "base_uri": "https://localhost:8080/"
        }
      },
      "id": "wU8RtghiBPgF",
      "execution_count": 4,
      "outputs": [
        {
          "output_type": "stream",
          "name": "stdout",
          "text": [
            "<class 'int'>\n"
          ]
        }
      ]
    },
    {
      "cell_type": "code",
      "source": [
        "company_name = \"DataWiz inc.\"\n",
        "isinstance(company_name, str)"
      ],
      "metadata": {
        "id": "BfXOyRQiBq9e",
        "outputId": "36c7c7fe-e06a-4444-f15f-28eab53d5fac",
        "colab": {
          "base_uri": "https://localhost:8080/"
        }
      },
      "id": "BfXOyRQiBq9e",
      "execution_count": 5,
      "outputs": [
        {
          "output_type": "execute_result",
          "data": {
            "text/plain": [
              "True"
            ]
          },
          "metadata": {},
          "execution_count": 5
        }
      ]
    },
    {
      "cell_type": "code",
      "source": [
        "job_title.upper()"
      ],
      "metadata": {
        "id": "tWTBfuR2Hmbc",
        "outputId": "9d9cd471-fa4f-46f7-c898-8614600abfd4",
        "colab": {
          "base_uri": "https://localhost:8080/",
          "height": 35
        }
      },
      "id": "tWTBfuR2Hmbc",
      "execution_count": 6,
      "outputs": [
        {
          "output_type": "execute_result",
          "data": {
            "text/plain": [
              "'DATA SCIENTIST'"
            ],
            "application/vnd.google.colaboratory.intrinsic+json": {
              "type": "string"
            }
          },
          "metadata": {},
          "execution_count": 6
        }
      ]
    },
    {
      "cell_type": "markdown",
      "id": "cb421822",
      "metadata": {
        "id": "cb421822"
      },
      "source": [
        "---"
      ]
    },
    {
      "cell_type": "markdown",
      "id": "6e3537ff",
      "metadata": {
        "id": "6e3537ff"
      },
      "source": [
        "## 🟨 Define Function (1.2.1.3)"
      ]
    },
    {
      "cell_type": "code",
      "execution_count": 9,
      "id": "cde6212a",
      "metadata": {
        "id": "cde6212a",
        "outputId": "2907668f-a7ff-4a4f-d34c-e43467fcd7a9",
        "colab": {
          "base_uri": "https://localhost:8080/",
          "height": 35
        }
      },
      "outputs": [
        {
          "output_type": "execute_result",
          "data": {
            "text/plain": [
              "'Data Engeneer'"
            ],
            "application/vnd.google.colaboratory.intrinsic+json": {
              "type": "string"
            }
          },
          "metadata": {},
          "execution_count": 9
        }
      ],
      "source": [
        "job_title = \"Data Analyst\"\n",
        "job_title.replace(\"Analyst\", \"Engeneer\")"
      ]
    },
    {
      "cell_type": "code",
      "source": [
        "seniority_level = \"Senior \"\n",
        "job_title = \"Data Analyst\"\n",
        "seniority_level + job_title"
      ],
      "metadata": {
        "id": "ZLZOMD9lJHAM",
        "outputId": "ddbba898-cf9d-4992-bf04-0f2fc81875da",
        "colab": {
          "base_uri": "https://localhost:8080/",
          "height": 35
        }
      },
      "id": "ZLZOMD9lJHAM",
      "execution_count": 12,
      "outputs": [
        {
          "output_type": "execute_result",
          "data": {
            "text/plain": [
              "'Senior Data Analyst'"
            ],
            "application/vnd.google.colaboratory.intrinsic+json": {
              "type": "string"
            }
          },
          "metadata": {},
          "execution_count": 12
        }
      ]
    },
    {
      "cell_type": "code",
      "source": [
        "job_title = \"Data Scientist\"\n",
        "len(job_title)"
      ],
      "metadata": {
        "id": "0UuajwfHJ4sx",
        "outputId": "b19939c4-5db1-4fc4-fdd5-3a16c772d593",
        "colab": {
          "base_uri": "https://localhost:8080/"
        }
      },
      "id": "0UuajwfHJ4sx",
      "execution_count": 13,
      "outputs": [
        {
          "output_type": "execute_result",
          "data": {
            "text/plain": [
              "14"
            ]
          },
          "metadata": {},
          "execution_count": 13
        }
      ]
    },
    {
      "cell_type": "code",
      "source": [
        "job_title = \"DATA ENGENEER\"\n",
        "job_title.lower()"
      ],
      "metadata": {
        "id": "avIfGQXUKMhb",
        "outputId": "fa9b4f1d-5801-4293-a47f-65b82b47aef4",
        "colab": {
          "base_uri": "https://localhost:8080/",
          "height": 35
        }
      },
      "id": "avIfGQXUKMhb",
      "execution_count": 14,
      "outputs": [
        {
          "output_type": "execute_result",
          "data": {
            "text/plain": [
              "'data engeneer'"
            ],
            "application/vnd.google.colaboratory.intrinsic+json": {
              "type": "string"
            }
          },
          "metadata": {},
          "execution_count": 14
        }
      ]
    },
    {
      "cell_type": "markdown",
      "id": "7d7fbaf5",
      "metadata": {
        "id": "7d7fbaf5"
      },
      "source": [
        "---"
      ]
    },
    {
      "cell_type": "markdown",
      "id": "3b23bdf3",
      "metadata": {
        "id": "3b23bdf3"
      },
      "source": [
        "## 🟨 Define Class (1.2.1.4)"
      ]
    },
    {
      "cell_type": "code",
      "execution_count": null,
      "id": "8258d78c",
      "metadata": {
        "id": "8258d78c"
      },
      "outputs": [],
      "source": []
    },
    {
      "cell_type": "markdown",
      "id": "a7b1c8db",
      "metadata": {
        "id": "a7b1c8db"
      },
      "source": [
        "---"
      ]
    },
    {
      "cell_type": "markdown",
      "id": "4e4c0d49",
      "metadata": {
        "id": "4e4c0d49"
      },
      "source": [
        "## 🟥 Call Method (1.2.1.5)"
      ]
    },
    {
      "cell_type": "code",
      "execution_count": null,
      "id": "5f123b9b",
      "metadata": {
        "id": "5f123b9b"
      },
      "outputs": [],
      "source": []
    },
    {
      "cell_type": "markdown",
      "id": "84d3740e",
      "metadata": {
        "id": "84d3740e"
      },
      "source": [
        "---"
      ]
    },
    {
      "cell_type": "markdown",
      "id": "7b8b125d",
      "metadata": {
        "id": "7b8b125d"
      },
      "source": [
        "## 🟥 Example of Attribute (1.2.1.6)"
      ]
    },
    {
      "cell_type": "code",
      "execution_count": null,
      "id": "d0c76efd",
      "metadata": {
        "id": "d0c76efd"
      },
      "outputs": [],
      "source": []
    },
    {
      "cell_type": "markdown",
      "id": "b54deeb8",
      "metadata": {
        "id": "b54deeb8"
      },
      "source": [
        "---"
      ]
    }
  ],
  "metadata": {
    "colab": {
      "provenance": [],
      "include_colab_link": true
    },
    "language_info": {
      "name": "python"
    },
    "kernelspec": {
      "name": "python3",
      "display_name": "Python 3"
    }
  },
  "nbformat": 4,
  "nbformat_minor": 5
}