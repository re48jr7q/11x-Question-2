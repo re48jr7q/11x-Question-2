{
  "cells": [
    {
      "cell_type": "markdown",
      "id": "95f6ce0f",
      "metadata": {
        "id": "95f6ce0f"
      },
      "source": [
        "<a target=\"_blank\" href=\"https://colab.research.google.com/github/lukebarousse/Python_Data_Analytics_Course/blob/main/4_Problems/1_02.1_Python Terms.ipynb\">\n",
        "  <img src=\"https://colab.research.google.com/assets/colab-badge.svg\" alt=\"Open In Colab\"/>\n",
        "</a>"
      ]
    },
    {
      "cell_type": "markdown",
      "id": "beb9ad38",
      "metadata": {
        "id": "beb9ad38"
      },
      "source": [
        "## 🟩 Example of Object (1.2.1.1)"
      ]
    },
    {
      "cell_type": "code",
      "execution_count": 3,
      "id": "c12eb275",
      "metadata": {
        "colab": {
          "base_uri": "https://localhost:8080/"
        },
        "id": "c12eb275",
        "outputId": "adfc902c-274c-409e-9f87-59b4dc644b63"
      },
      "outputs": [
        {
          "output_type": "stream",
          "name": "stdout",
          "text": [
            "42\n"
          ]
        }
      ],
      "source": [
        "job_count = 42\n",
        "print(job_count)"
      ]
    },
    {
      "cell_type": "code",
      "source": [
        "base_salary = 120000\n",
        "bonus = 20000"
      ],
      "metadata": {
        "id": "GKATm0X-wF0p"
      },
      "id": "GKATm0X-wF0p",
      "execution_count": 8,
      "outputs": []
    },
    {
      "cell_type": "code",
      "source": [
        "total_compensation = base_salary + bonus\n",
        "print(total_compensation)"
      ],
      "metadata": {
        "id": "n1qTM0QnwbWp",
        "outputId": "eb11925d-a053-41bc-e69b-968dac1d6aaf",
        "colab": {
          "base_uri": "https://localhost:8080/"
        }
      },
      "id": "n1qTM0QnwbWp",
      "execution_count": 9,
      "outputs": [
        {
          "output_type": "stream",
          "name": "stdout",
          "text": [
            "140000\n"
          ]
        }
      ]
    },
    {
      "cell_type": "code",
      "source": [
        "annual_salary = 720000"
      ],
      "metadata": {
        "id": "K6CqTlPtwqhC"
      },
      "id": "K6CqTlPtwqhC",
      "execution_count": 10,
      "outputs": []
    },
    {
      "cell_type": "code",
      "source": [
        "print(f\"monthly salary: {annual_salary / 12}\")"
      ],
      "metadata": {
        "id": "oU4h0pJNxTPR",
        "outputId": "81837c86-1571-47bd-8b15-7a71551df5a1",
        "colab": {
          "base_uri": "https://localhost:8080/"
        }
      },
      "id": "oU4h0pJNxTPR",
      "execution_count": 13,
      "outputs": [
        {
          "output_type": "stream",
          "name": "stdout",
          "text": [
            "monthly salary: 60000.0\n"
          ]
        }
      ]
    },
    {
      "cell_type": "code",
      "source": [
        "job_name = \"Data Scientist\"\n",
        "company_name = \"AI Solutions\"\n",
        "base_salary = 110000\n",
        "bonus = base_salary / 10"
      ],
      "metadata": {
        "id": "4j9PCeWbyvqp"
      },
      "id": "4j9PCeWbyvqp",
      "execution_count": 14,
      "outputs": []
    },
    {
      "cell_type": "code",
      "source": [
        "print(f\"Vacancy for a position of {job_name} at {company_name}.\\nSalary is {base_salary} with a bonus of {bonus}.\")"
      ],
      "metadata": {
        "id": "EJexsTE8zxFr",
        "outputId": "0ddb918a-acf1-433c-db07-dfe5f019e610",
        "colab": {
          "base_uri": "https://localhost:8080/"
        }
      },
      "id": "EJexsTE8zxFr",
      "execution_count": 15,
      "outputs": [
        {
          "output_type": "stream",
          "name": "stdout",
          "text": [
            "Vacancy for a position of Data Scientist at AI Solutions.\n",
            "Salary is 110000 with a bonus of 11000.0.\n"
          ]
        }
      ]
    },
    {
      "cell_type": "markdown",
      "id": "4f92e924",
      "metadata": {
        "id": "4f92e924"
      },
      "source": [
        "---"
      ]
    },
    {
      "cell_type": "markdown",
      "id": "0d8bd28e",
      "metadata": {
        "id": "0d8bd28e"
      },
      "source": [
        "## 🟩 Define Variable (1.2.1.2)"
      ]
    },
    {
      "cell_type": "markdown",
      "id": "6e3537ff",
      "metadata": {
        "id": "6e3537ff"
      },
      "source": [
        "## 🟨 Define Function (1.2.1.3)"
      ]
    },
    {
      "cell_type": "markdown",
      "id": "7d7fbaf5",
      "metadata": {
        "id": "7d7fbaf5"
      },
      "source": [
        "---"
      ]
    },
    {
      "cell_type": "markdown",
      "id": "3b23bdf3",
      "metadata": {
        "id": "3b23bdf3"
      },
      "source": [
        "## 🟨 Define Class (1.2.1.4)"
      ]
    },
    {
      "cell_type": "code",
      "execution_count": null,
      "id": "8258d78c",
      "metadata": {
        "id": "8258d78c"
      },
      "outputs": [],
      "source": []
    },
    {
      "cell_type": "markdown",
      "id": "a7b1c8db",
      "metadata": {
        "id": "a7b1c8db"
      },
      "source": [
        "---"
      ]
    },
    {
      "cell_type": "markdown",
      "id": "4e4c0d49",
      "metadata": {
        "id": "4e4c0d49"
      },
      "source": [
        "## 🟥 Call Method (1.2.1.5)"
      ]
    },
    {
      "cell_type": "code",
      "execution_count": null,
      "id": "5f123b9b",
      "metadata": {
        "id": "5f123b9b"
      },
      "outputs": [],
      "source": []
    },
    {
      "cell_type": "markdown",
      "id": "84d3740e",
      "metadata": {
        "id": "84d3740e"
      },
      "source": [
        "---"
      ]
    },
    {
      "cell_type": "markdown",
      "id": "7b8b125d",
      "metadata": {
        "id": "7b8b125d"
      },
      "source": [
        "## 🟥 Example of Attribute (1.2.1.6)"
      ]
    },
    {
      "cell_type": "code",
      "execution_count": null,
      "id": "d0c76efd",
      "metadata": {
        "id": "d0c76efd"
      },
      "outputs": [],
      "source": []
    },
    {
      "cell_type": "markdown",
      "id": "b54deeb8",
      "metadata": {
        "id": "b54deeb8"
      },
      "source": [
        "---"
      ]
    }
  ],
  "metadata": {
    "colab": {
      "provenance": []
    },
    "language_info": {
      "name": "python"
    },
    "kernelspec": {
      "name": "python3",
      "display_name": "Python 3"
    }
  },
  "nbformat": 4,
  "nbformat_minor": 5
}