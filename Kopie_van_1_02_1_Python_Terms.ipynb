{
  "cells": [
    {
      "cell_type": "markdown",
      "id": "95f6ce0f",
      "metadata": {
        "id": "95f6ce0f"
      },
      "source": [
        "<a target=\"_blank\" href=\"https://colab.research.google.com/github/lukebarousse/Python_Data_Analytics_Course/blob/main/4_Problems/1_02.1_Python Terms.ipynb\">\n",
        "  <img src=\"https://colab.research.google.com/assets/colab-badge.svg\" alt=\"Open In Colab\"/>\n",
        "</a>"
      ]
    },
    {
      "cell_type": "markdown",
      "id": "beb9ad38",
      "metadata": {
        "id": "beb9ad38"
      },
      "source": [
        "## 🟩 Example of Object (1.2.1.1)"
      ]
    },
    {
      "cell_type": "code",
      "execution_count": null,
      "id": "c12eb275",
      "metadata": {
        "id": "c12eb275"
      },
      "outputs": [],
      "source": []
    },
    {
      "cell_type": "markdown",
      "id": "4f92e924",
      "metadata": {
        "id": "4f92e924"
      },
      "source": [
        "---"
      ]
    },
    {
      "cell_type": "markdown",
      "id": "0d8bd28e",
      "metadata": {
        "id": "0d8bd28e"
      },
      "source": [
        "## 🟩 Define Variable (1.2.1.2)"
      ]
    },
    {
      "cell_type": "code",
      "execution_count": null,
      "id": "b86bf00f",
      "metadata": {
        "colab": {
          "base_uri": "https://localhost:8080/"
        },
        "id": "b86bf00f",
        "outputId": "423da97e-c94e-4eef-9b8a-fab1d89da387"
      },
      "outputs": [
        {
          "output_type": "stream",
          "name": "stdout",
          "text": [
            "<class 'str'>\n"
          ]
        }
      ],
      "source": [
        "job_title = \"Data scientist\"\n",
        "print(type(job_title))"
      ]
    },
    {
      "cell_type": "code",
      "source": [
        "salary = 85000.5\n",
        "print(type(salary))"
      ],
      "metadata": {
        "colab": {
          "base_uri": "https://localhost:8080/"
        },
        "id": "-jQjRagyA7q6",
        "outputId": "180378bb-0dec-4510-806e-5b700a0e872d"
      },
      "id": "-jQjRagyA7q6",
      "execution_count": null,
      "outputs": [
        {
          "output_type": "stream",
          "name": "stdout",
          "text": [
            "<class 'float'>\n"
          ]
        }
      ]
    },
    {
      "cell_type": "code",
      "source": [
        "salary_rate = 120000.75\n",
        "print(type(int(salary_rate)))"
      ],
      "metadata": {
        "colab": {
          "base_uri": "https://localhost:8080/"
        },
        "id": "wU8RtghiBPgF",
        "outputId": "e283a8de-cde8-4bb3-853a-4f6f13445769"
      },
      "id": "wU8RtghiBPgF",
      "execution_count": null,
      "outputs": [
        {
          "output_type": "stream",
          "name": "stdout",
          "text": [
            "<class 'int'>\n"
          ]
        }
      ]
    },
    {
      "cell_type": "code",
      "source": [
        "company_name = \"DataWiz inc.\"\n",
        "print(isinstance(company_name, str))"
      ],
      "metadata": {
        "colab": {
          "base_uri": "https://localhost:8080/"
        },
        "id": "BfXOyRQiBq9e",
        "outputId": "92cb9b7d-7e7d-45cd-cd45-9bc6553f4d46"
      },
      "id": "BfXOyRQiBq9e",
      "execution_count": 5,
      "outputs": [
        {
          "output_type": "stream",
          "name": "stdout",
          "text": [
            "True\n"
          ]
        }
      ]
    },
    {
      "cell_type": "code",
      "source": [
        "print(job_title.upper())"
      ],
      "metadata": {
        "colab": {
          "base_uri": "https://localhost:8080/"
        },
        "id": "tWTBfuR2Hmbc",
        "outputId": "93f5ebc7-1860-4cde-b54c-63e49cfd762c"
      },
      "id": "tWTBfuR2Hmbc",
      "execution_count": 4,
      "outputs": [
        {
          "output_type": "stream",
          "name": "stdout",
          "text": [
            "DATA ANALYST\n"
          ]
        }
      ]
    },
    {
      "cell_type": "code",
      "source": [
        "job_title = \"Data Cientist\"\n",
        "print(\"Job title: \" + job_title)"
      ],
      "metadata": {
        "colab": {
          "base_uri": "https://localhost:8080/"
        },
        "id": "15M59PncYsYT",
        "outputId": "1dc196af-8eb9-4577-dfdf-3b3c83a90dad"
      },
      "id": "15M59PncYsYT",
      "execution_count": 1,
      "outputs": [
        {
          "output_type": "stream",
          "name": "stdout",
          "text": [
            "Job title: Data Cientist\n"
          ]
        }
      ]
    },
    {
      "cell_type": "code",
      "execution_count": 3,
      "id": "cde6212a",
      "metadata": {
        "colab": {
          "base_uri": "https://localhost:8080/"
        },
        "id": "cde6212a",
        "outputId": "c01b597e-b371-46e8-d640-c9ced370722c"
      },
      "outputs": [
        {
          "output_type": "stream",
          "name": "stdout",
          "text": [
            "Data Engeneer\n"
          ]
        }
      ],
      "source": [
        "job_title = \"Data Analyst\"\n",
        "print(job_title.replace(\"Analyst\", \"Engeneer\"))"
      ]
    },
    {
      "cell_type": "code",
      "source": [
        "job_title = \"Data Scientist\"\n",
        "print(len(job_title))"
      ],
      "metadata": {
        "colab": {
          "base_uri": "https://localhost:8080/"
        },
        "id": "0UuajwfHJ4sx",
        "outputId": "b19939c4-5db1-4fc4-fdd5-3a16c772d593"
      },
      "id": "0UuajwfHJ4sx",
      "execution_count": null,
      "outputs": [
        {
          "output_type": "execute_result",
          "data": {
            "text/plain": [
              "14"
            ]
          },
          "metadata": {},
          "execution_count": 13
        }
      ]
    },
    {
      "cell_type": "code",
      "source": [
        "job_title = \"DATA ENGENEER\"\n",
        "print(job_title.lower())"
      ],
      "metadata": {
        "colab": {
          "base_uri": "https://localhost:8080/"
        },
        "id": "avIfGQXUKMhb",
        "outputId": "565b0a76-6802-4c71-a276-0dea5df38364"
      },
      "id": "avIfGQXUKMhb",
      "execution_count": 6,
      "outputs": [
        {
          "output_type": "stream",
          "name": "stdout",
          "text": [
            "data engeneer\n"
          ]
        }
      ]
    },
    {
      "cell_type": "code",
      "source": [
        "position = \"Data Cientist\"\n",
        "company = \"Data Wiz inc\"\n",
        "print(f\"{position} at {company}.\")"
      ],
      "metadata": {
        "colab": {
          "base_uri": "https://localhost:8080/"
        },
        "id": "sIBnw-ClZaHB",
        "outputId": "eb903de2-11f4-4202-f003-25666c6804c8"
      },
      "id": "sIBnw-ClZaHB",
      "execution_count": 2,
      "outputs": [
        {
          "output_type": "stream",
          "name": "stdout",
          "text": [
            "Data Cientist at Data Wiz inc.\n"
          ]
        }
      ]
    },
    {
      "cell_type": "markdown",
      "id": "cb421822",
      "metadata": {
        "id": "cb421822"
      },
      "source": [
        "---"
      ]
    },
    {
      "cell_type": "code",
      "source": [
        "seniority_level = \"Senior \"\n",
        "job_title = \"Data Analyst\"\n",
        "print(seniority_level + job_title)"
      ],
      "metadata": {
        "colab": {
          "base_uri": "https://localhost:8080/"
        },
        "id": "ZLZOMD9lJHAM",
        "outputId": "b724a1eb-8cbd-434f-ee71-e280ddab5326"
      },
      "id": "ZLZOMD9lJHAM",
      "execution_count": 7,
      "outputs": [
        {
          "output_type": "stream",
          "name": "stdout",
          "text": [
            "Senior Data Analyst\n"
          ]
        }
      ]
    },
    {
      "cell_type": "code",
      "source": [
        "role = \"Data Analist\"\n",
        "skill = \"Python\"\n",
        "print(\"Role: {}, Skill: {}.\".format(role, skill))"
      ],
      "metadata": {
        "colab": {
          "base_uri": "https://localhost:8080/"
        },
        "id": "XgHYuIRSbgMd",
        "outputId": "4c1e39cd-20c6-4754-ce12-74c42f53557d"
      },
      "id": "XgHYuIRSbgMd",
      "execution_count": 14,
      "outputs": [
        {
          "output_type": "stream",
          "name": "stdout",
          "text": [
            "Role: Data Analist, Skill: Python.\n"
          ]
        }
      ]
    },
    {
      "cell_type": "code",
      "source": [
        "role = \"Data Engeneer\"\n",
        "skill = \"SQL\"\n",
        "print(\"Role: %s; Skill: %s\" % (role, skill))"
      ],
      "metadata": {
        "colab": {
          "base_uri": "https://localhost:8080/"
        },
        "id": "IQsQWDuGhf1u",
        "outputId": "4f7faaa4-73af-4a07-bf7b-778bf06229e8"
      },
      "id": "IQsQWDuGhf1u",
      "execution_count": 15,
      "outputs": [
        {
          "output_type": "stream",
          "name": "stdout",
          "text": [
            "Role: Data Engeneer; Skill: SQL\n"
          ]
        }
      ]
    },
    {
      "cell_type": "markdown",
      "id": "6e3537ff",
      "metadata": {
        "id": "6e3537ff"
      },
      "source": [
        "## 🟨 Define Function (1.2.1.3)"
      ]
    },
    {
      "cell_type": "markdown",
      "id": "7d7fbaf5",
      "metadata": {
        "id": "7d7fbaf5"
      },
      "source": [
        "---"
      ]
    },
    {
      "cell_type": "markdown",
      "id": "3b23bdf3",
      "metadata": {
        "id": "3b23bdf3"
      },
      "source": [
        "## 🟨 Define Class (1.2.1.4)"
      ]
    },
    {
      "cell_type": "code",
      "execution_count": null,
      "id": "8258d78c",
      "metadata": {
        "id": "8258d78c"
      },
      "outputs": [],
      "source": []
    },
    {
      "cell_type": "markdown",
      "id": "a7b1c8db",
      "metadata": {
        "id": "a7b1c8db"
      },
      "source": [
        "---"
      ]
    },
    {
      "cell_type": "markdown",
      "id": "4e4c0d49",
      "metadata": {
        "id": "4e4c0d49"
      },
      "source": [
        "## 🟥 Call Method (1.2.1.5)"
      ]
    },
    {
      "cell_type": "code",
      "execution_count": null,
      "id": "5f123b9b",
      "metadata": {
        "id": "5f123b9b"
      },
      "outputs": [],
      "source": []
    },
    {
      "cell_type": "markdown",
      "id": "84d3740e",
      "metadata": {
        "id": "84d3740e"
      },
      "source": [
        "---"
      ]
    },
    {
      "cell_type": "markdown",
      "id": "7b8b125d",
      "metadata": {
        "id": "7b8b125d"
      },
      "source": [
        "## 🟥 Example of Attribute (1.2.1.6)"
      ]
    },
    {
      "cell_type": "code",
      "execution_count": null,
      "id": "d0c76efd",
      "metadata": {
        "id": "d0c76efd"
      },
      "outputs": [],
      "source": []
    },
    {
      "cell_type": "markdown",
      "id": "b54deeb8",
      "metadata": {
        "id": "b54deeb8"
      },
      "source": [
        "---"
      ]
    }
  ],
  "metadata": {
    "colab": {
      "provenance": []
    },
    "language_info": {
      "name": "python"
    },
    "kernelspec": {
      "name": "python3",
      "display_name": "Python 3"
    }
  },
  "nbformat": 4,
  "nbformat_minor": 5
}